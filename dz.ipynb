{
 "cells": [
  {
   "cell_type": "markdown",
   "metadata": {},
   "source": [
    "1. Вероятность того, что стрелок попадет в мишень, выстрелив один раз, равна 0.8. Стрелок выстрелил 100 раз. Найдите вероятность того, что стрелок попадет в цель ровно 85 раз."
   ]
  },
  {
   "cell_type": "code",
   "execution_count": 1,
   "metadata": {},
   "outputs": [],
   "source": [
    "from math import factorial, exp\n",
    "def bernulli(n, k, p):\n",
    "    comb=factorial(n)/(factorial(k)*factorial(n-k))\n",
    "    return comb*(p**k)*(1-p)**(n-k)"
   ]
  },
  {
   "cell_type": "code",
   "execution_count": 2,
   "metadata": {},
   "outputs": [
    {
     "name": "stdout",
     "output_type": "stream",
     "text": [
      "P =  0.0481\n"
     ]
    }
   ],
   "source": [
    "print(f'P = {bernulli(100,85,0.8): .4f}')"
   ]
  },
  {
   "cell_type": "markdown",
   "metadata": {},
   "source": [
    "Ответ: 4.81%"
   ]
  },
  {
   "cell_type": "markdown",
   "metadata": {},
   "source": [
    "2. Вероятность того, что лампочка перегорит в течение первого дня эксплуатации, равна 0.0004. В жилом комплексе после ремонта в один день включили 5000 новых лампочек."
   ]
  },
  {
   "cell_type": "markdown",
   "metadata": {},
   "source": [
    "a) Какова вероятность, что ни одна из них не перегорит в первый день?"
   ]
  },
  {
   "cell_type": "code",
   "execution_count": 3,
   "metadata": {},
   "outputs": [],
   "source": [
    "def poisson_distr(m,p,n):\n",
    "    lamb=p*n\n",
    "    return exp(-lamb)*(lamb**m)/factorial(m)"
   ]
  },
  {
   "cell_type": "code",
   "execution_count": 4,
   "metadata": {},
   "outputs": [
    {
     "name": "stdout",
     "output_type": "stream",
     "text": [
      "P =  0.1353\n"
     ]
    }
   ],
   "source": [
    "print(f'P = {poisson_distr(0,0.0004,5000): .4f}')"
   ]
  },
  {
   "cell_type": "markdown",
   "metadata": {},
   "source": [
    "Ответ: 0.1353%"
   ]
  },
  {
   "cell_type": "markdown",
   "metadata": {},
   "source": [
    "б) Какова вероятность, что перегорят ровно две?"
   ]
  },
  {
   "cell_type": "code",
   "execution_count": 5,
   "metadata": {},
   "outputs": [
    {
     "name": "stdout",
     "output_type": "stream",
     "text": [
      "P =  0.2707\n"
     ]
    }
   ],
   "source": [
    "print(f'P = {poisson_distr(2,0.0004,5000): .4f}')"
   ]
  },
  {
   "cell_type": "markdown",
   "metadata": {},
   "source": [
    "Ответ: 0.2707%"
   ]
  },
  {
   "cell_type": "markdown",
   "metadata": {},
   "source": [
    "3. Монету подбросили 144 раза. Какова вероятность, что орел выпадет ровно 70 раз?"
   ]
  },
  {
   "cell_type": "code",
   "execution_count": null,
   "metadata": {},
   "outputs": [],
   "source": [
    "print(f'P = {bernulli(144,70,0.5): .4f}')"
   ]
  },
  {
   "cell_type": "markdown",
   "metadata": {},
   "source": [
    "Ответ: 0.0628%"
   ]
  },
  {
   "cell_type": "markdown",
   "metadata": {},
   "source": [
    "4. В первом ящике находится 10 мячей, из которых 7 - белые. Во втором ящике - 11 мячей, из которых 9 белых. Из каждого ящика вытаскивают случайным образом по два мяча. Какова вероятность того, что:"
   ]
  },
  {
   "cell_type": "code",
   "execution_count": 6,
   "metadata": {},
   "outputs": [],
   "source": [
    "def combinations(n, k):\n",
    "    return int(factorial(n) / (factorial(k) * factorial(n - k)))"
   ]
  },
  {
   "cell_type": "code",
   "execution_count": 7,
   "metadata": {},
   "outputs": [
    {
     "name": "stdout",
     "output_type": "stream",
     "text": [
      "Общее число элементарных исходов для первой корзины: n1 = 45\n",
      "Общее число элементарных исходов для второй корзины: n2 = 55\n"
     ]
    }
   ],
   "source": [
    "n1=combinations(10,2)\n",
    "n2=combinations(11,2)\n",
    "print(f'Общее число элементарных исходов для первой корзины: n1 = {n1}\\n'\n",
    "f'Общее число элементарных исходов для второй корзины: n2 = {n2}')"
   ]
  },
  {
   "cell_type": "markdown",
   "metadata": {},
   "source": [
    "a) все мячи белые?;"
   ]
  },
  {
   "cell_type": "code",
   "execution_count": 8,
   "metadata": {},
   "outputs": [
    {
     "name": "stdout",
     "output_type": "stream",
     "text": [
      "Число благоприятных элементарных исходов для события А: m1 = 21\n",
      "Число благоприятных элементарных исходов для события В: m2 = 36\n"
     ]
    }
   ],
   "source": [
    "m1=combinations(7,2)\n",
    "m2=combinations(9,2)\n",
    "print(f'Число благоприятных элементарных исходов для события А: m1 = {combinations(7,2)}\\n'\n",
    "      f'Число благоприятных элементарных исходов для события В: m2 = {combinations(9,2)}'\n",
    "     )"
   ]
  },
  {
   "cell_type": "code",
   "execution_count": 9,
   "metadata": {},
   "outputs": [
    {
     "name": "stdout",
     "output_type": "stream",
     "text": [
      "Вероятность наступления события А, Р(А) =  0.4667\n",
      "Вероятность наступления события В, Р(В) =  0.6545\n",
      "Вероятность одновременного наступления событий А и В, Р(А+В) =  0.3055\n"
     ]
    }
   ],
   "source": [
    "print(f'Вероятность наступления события А, Р(А) = {m1/n1: .4f}\\n'\n",
    "      f'Вероятность наступления события В, Р(В) = {m2/n2: .4f}\\n'\n",
    "      f'Вероятность одновременного наступления событий А и В, Р(А+В) = {(m1/n1)*(m2/n2): .4f}'\n",
    "     )"
   ]
  },
  {
   "cell_type": "code",
   "execution_count": 10,
   "metadata": {},
   "outputs": [
    {
     "name": "stdout",
     "output_type": "stream",
     "text": [
      "Вероятность одновременного наступления событий А и В, Р(А+В) =  0.3055\n"
     ]
    }
   ],
   "source": [
    "P=(7/10)*(6/9)*(9/11)*(8/10)\n",
    "print(f'Вероятность одновременного наступления событий А и В, Р(А+В) = {P: .4f}')"
   ]
  },
  {
   "cell_type": "markdown",
   "metadata": {},
   "source": [
    "Ответ: 0.3055"
   ]
  },
  {
   "cell_type": "markdown",
   "metadata": {},
   "source": [
    "б) ровно два мяча белые?;"
   ]
  },
  {
   "cell_type": "code",
   "execution_count": 11,
   "metadata": {},
   "outputs": [
    {
     "name": "stdout",
     "output_type": "stream",
     "text": [
      "Число благоприятных элементарных исходов для события А: m_A = 21\n",
      "Число благоприятных элементарных исходов для события B: m_B = 1\n",
      "Число благоприятных элементарных исходов для события C: m_C = 21\n",
      "Число благоприятных элементарных исходов для события D: m_D = 18\n",
      "Число благоприятных элементарных исходов для события E: m_E = 3\n",
      "Число благоприятных элементарных исходов для события F: m_F = 36\n"
     ]
    }
   ],
   "source": [
    "m_A=combinations(7,2)\n",
    "m_B=combinations(2,2)\n",
    "m_C=combinations(7,1)*combinations(3,1)\n",
    "m_D=combinations(9,1)*combinations(2,1)\n",
    "m_E=combinations(3,2)\n",
    "m_F=combinations(9,2)\n",
    "print(f'Число благоприятных элементарных исходов для события А: m_A = {m_A}\\n'\n",
    "      f'Число благоприятных элементарных исходов для события B: m_B = {m_B}\\n'\n",
    "      f'Число благоприятных элементарных исходов для события C: m_C = {m_C}\\n'\n",
    "      f'Число благоприятных элементарных исходов для события D: m_D = {m_D}\\n'\n",
    "      f'Число благоприятных элементарных исходов для события E: m_E = {m_E}\\n'\n",
    "      f'Число благоприятных элементарных исходов для события F: m_F = {m_F}'  \n",
    "     )"
   ]
  },
  {
   "cell_type": "code",
   "execution_count": 12,
   "metadata": {},
   "outputs": [
    {
     "name": "stdout",
     "output_type": "stream",
     "text": [
      "Вероятность того, что будут вытащены ровно 2 белых мяча Р =  0.2048\n"
     ]
    }
   ],
   "source": [
    "P=(m_A/n1)*(m_B/n2)+(m_C/n1)*(m_D/n2)+(m_E/n1)*(m_F/n2)\n",
    "print(f'Вероятность того, что будут вытащены ровно 2 белых мяча Р = {P: .4f}')"
   ]
  },
  {
   "cell_type": "markdown",
   "metadata": {},
   "source": [
    "Ответ: 0.2048%"
   ]
  },
  {
   "cell_type": "markdown",
   "metadata": {},
   "source": [
    "в) хотя бы один мяч белый?."
   ]
  },
  {
   "cell_type": "code",
   "execution_count": 13,
   "metadata": {},
   "outputs": [
    {
     "name": "stdout",
     "output_type": "stream",
     "text": [
      "Число благоприятных элементарных исходов для первой корзины: m1 = 3\n",
      "Число благоприятных элементарных исходов для второй корзины: m2 = 1\n"
     ]
    }
   ],
   "source": [
    "m1=combinations(3,2)\n",
    "m2=combinations(2,2)\n",
    "print(f'Число благоприятных элементарных исходов для первой корзины: m1 = {combinations(3,2)}\\n'\n",
    "      f'Число благоприятных элементарных исходов для второй корзины: m2 = {combinations(2,2)}'\n",
    "     )"
   ]
  },
  {
   "cell_type": "code",
   "execution_count": 14,
   "metadata": {},
   "outputs": [
    {
     "name": "stdout",
     "output_type": "stream",
     "text": [
      "Вероятность того, что не будет извлечено ни одного белого мяча Р(А_обр) =  0.0012\n",
      "Вероятность того, что будет извлечен хотя бы один белый мяч Р(А) = 1 - Р(А_обр) =  0.9988\n"
     ]
    }
   ],
   "source": [
    "print(f'Вероятность того, что не будет извлечено ни одного белого мяча Р(А_обр) = {(m1/n1)*(m2/n2): .4f}\\n'\n",
    "      f'Вероятность того, что будет извлечен хотя бы один белый мяч Р(А) = 1 - Р(А_обр) = {1-(m1/n1)*(m2/n2): .4f}'\n",
    "     )"
   ]
  },
  {
   "cell_type": "markdown",
   "metadata": {},
   "source": [
    "Ответ: 99.88%"
   ]
  }
 ],
 "metadata": {
  "kernelspec": {
   "display_name": "Python 3",
   "language": "python",
   "name": "python3"
  },
  "language_info": {
   "codemirror_mode": {
    "name": "ipython",
    "version": 3
   },
   "file_extension": ".py",
   "mimetype": "text/x-python",
   "name": "python",
   "nbconvert_exporter": "python",
   "pygments_lexer": "ipython3",
   "version": "3.11.1"
  }
 },
 "nbformat": 4,
 "nbformat_minor": 2
}

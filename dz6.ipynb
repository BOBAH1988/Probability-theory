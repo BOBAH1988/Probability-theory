{
 "cells": [
  {
   "cell_type": "markdown",
   "metadata": {},
   "source": [
    "1. Известно, что генеральная совокупность распределена нормально со средним квадратическим отклонением, \n",
    "равным 16. Найти доверительный интервал для оценки математического ожидания a с надежностью 0.95, \n",
    "если выборочная средняя M = 80, а объем выборки n = 256."
   ]
  },
  {
   "cell_type": "code",
   "execution_count": 1,
   "metadata": {},
   "outputs": [
    {
     "name": "stdout",
     "output_type": "stream",
     "text": [
      "95%-й доверительный интервал для оценки мат. ожидания генеральной совокупности: [78.04;81.96].\n"
     ]
    }
   ],
   "source": [
    "left=80-1.96*16/256**(1/2)\n",
    "right=80+1.96*16/256**(1/2)\n",
    "print(f'95%-й доверительный интервал для оценки мат. ожидания генеральной совокупности: [{left};{right}].')"
   ]
  },
  {
   "cell_type": "markdown",
   "metadata": {},
   "source": [
    "Ответ: [78.04; 81.96]"
   ]
  },
  {
   "cell_type": "markdown",
   "metadata": {},
   "source": [
    "2. В результате 10 независимых измерений некоторой величины X, \n",
    "выполненных с одинаковой точностью, получены опытные данные:\n",
    "6.9, 6.1, 6.2, 6.8, 7.5, 6.3, 6.4, 6.9, 6.7, 6.1\n",
    "\n",
    "Предполагая, что результаты измерений подчинены нормальному закону распределения вероятностей, \n",
    "оценить истинное значение величины X при помощи доверительного интервала, \n",
    "покрывающего это значение с доверительной вероятностью 0,95"
   ]
  },
  {
   "cell_type": "code",
   "execution_count": 2,
   "metadata": {},
   "outputs": [],
   "source": [
    "import numpy as np"
   ]
  },
  {
   "cell_type": "code",
   "execution_count": 3,
   "metadata": {},
   "outputs": [
    {
     "name": "stdout",
     "output_type": "stream",
     "text": [
      "Среднее выборочное:  6.59,\n",
      "Размер выборки n=10,\n",
      "Среднее квадратическое отклонение по выборке(несмещенное):  0.45.\n"
     ]
    }
   ],
   "source": [
    "arr=np.array([6.9, 6.1, 6.2, 6.8, 7.5, 6.3, 6.4, 6.9, 6.7, 6.1])\n",
    "print(f'Среднее выборочное: {np.mean(arr): .2f},\\n'\n",
    "      f'Размер выборки n={len(arr)},\\n'\n",
    "      f'Среднее квадратическое отклонение по выборке(несмещенное): {np.std(arr, ddof=1): .2f}.'\n",
    "     )"
   ]
  },
  {
   "cell_type": "code",
   "execution_count": 4,
   "metadata": {},
   "outputs": [],
   "source": [
    "import scipy.stats as stats"
   ]
  },
  {
   "cell_type": "code",
   "execution_count": 6,
   "metadata": {},
   "outputs": [
    {
     "name": "stdout",
     "output_type": "stream",
     "text": [
      "Табличное значение t-критерия для 95%-го доверительного интервала данной выборки:  2.262\n"
     ]
    }
   ],
   "source": [
    "def t_from_table(confidens, len_array):\n",
    "    alpha=(1-confidens)\n",
    "    return stats.t.ppf(1-alpha/2, len_array-1)\n",
    "print(f'Табличное значение t-критерия для 95%-го доверительного интервала данной выборки: {t_from_table(0.95, len(arr)): .3f}')"
   ]
  },
  {
   "cell_type": "code",
   "execution_count": 7,
   "metadata": {},
   "outputs": [
    {
     "name": "stdout",
     "output_type": "stream",
     "text": [
      "95%-й доверительный интервал для истинного значения Х: (6.268, 6.912).\n"
     ]
    }
   ],
   "source": [
    "def confidens_int(arr, confidens):\n",
    "    return round(np.mean(arr)-t_from_table(confidens,len(arr))*np.std(arr, ddof=1)/len(arr)**0.5,3), \\\n",
    "           round(np.mean(arr)+t_from_table(confidens,len(arr))*np.std(arr, ddof=1)/len(arr)**0.5,3)\n",
    "\n",
    "print(f'95%-й доверительный интервал для истинного значения Х: {confidens_int(arr, 0.95)}.')"
   ]
  },
  {
   "cell_type": "markdown",
   "metadata": {},
   "source": [
    "Ответ: [6.268; 6.912]"
   ]
  },
  {
   "cell_type": "markdown",
   "metadata": {},
   "source": [
    "3. Рост дочерей 175, 167, 154, 174, 178, 148, 160, 167, 169, 170\n",
    "Рост матерей  178, 165, 165, 173, 168, 155, 160, 164, 178, 175\n",
    "\n",
    "Используя эти данные построить 95% доверительный интервал для разности среднего роста родителей и детей."
   ]
  },
  {
   "cell_type": "code",
   "execution_count": 8,
   "metadata": {},
   "outputs": [],
   "source": [
    "mothers = np.array([178, 165, 165, 173, 168, 155, 160, 164, 178, 175])\n",
    "daughters = np.array([175, 167, 154, 174, 178, 148, 160, 167, 169, 170])"
   ]
  },
  {
   "cell_type": "code",
   "execution_count": 9,
   "metadata": {},
   "outputs": [],
   "source": [
    "\n",
    "difference_of_means = np.mean(mothers) - np.mean(daughters)\n",
    "standard_error = np.sqrt(np.var(mothers, ddof=1)/len(mothers) + np.var(daughters, ddof=1)/len(daughters))\n",
    "t_critical = stats.t.ppf(0.975, len(mothers) + len(daughters) - 2)\n",
    "l_border = difference_of_means - t_critical * standard_error\n",
    "r_border = difference_of_means + t_critical * standard_error"
   ]
  },
  {
   "cell_type": "code",
   "execution_count": 10,
   "metadata": {},
   "outputs": [
    {
     "name": "stdout",
     "output_type": "stream",
     "text": [
      ">>> 95% доверительный интервал для разности среднего роста родителей и детей: [-6.27, 10.07]\n"
     ]
    }
   ],
   "source": [
    "\n",
    "print(f'>>> 95% доверительный интервал для разности среднего роста родителей и детей: [{l_border:.2f}, {r_border:.2f}]')"
   ]
  },
  {
   "cell_type": "markdown",
   "metadata": {},
   "source": [
    "Ответ: [-6.27; 10.07]"
   ]
  }
 ],
 "metadata": {
  "kernelspec": {
   "display_name": "Python 3",
   "language": "python",
   "name": "python3"
  },
  "language_info": {
   "codemirror_mode": {
    "name": "ipython",
    "version": 3
   },
   "file_extension": ".py",
   "mimetype": "text/x-python",
   "name": "python",
   "nbconvert_exporter": "python",
   "pygments_lexer": "ipython3",
   "version": "3.11.1"
  }
 },
 "nbformat": 4,
 "nbformat_minor": 2
}

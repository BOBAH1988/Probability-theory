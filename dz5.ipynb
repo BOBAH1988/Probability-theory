{
 "cells": [
  {
   "cell_type": "markdown",
   "metadata": {},
   "source": [
    "1. Когда используется критерий Стьюдента, а когда Z –критерий?"
   ]
  },
  {
   "cell_type": "markdown",
   "metadata": {},
   "source": [
    "Различия между T-критерием Стьюдента и Z-критерием Фишера\n",
    "\n",
    "T-критерий можно понимать как статистический критерий, который используется для сравнения и анализа того, отличаются ли средние значения двух групп населения друг от друга или нет, если стандартное отклонение неизвестно. В отличие от этого Z-критерий - это параметрический критерий, который применяется, когда известно стандартное отклонение, чтобы определить, отличаются ли средние значения двух наборов данных друг от друга.\n",
    "T-критерий основан на t-распределении Стьюдента. Напротив, z-критерий основан на предположении, что распределение выборочных средних нормальное. T-распределение и нормальное распределение Стьюдента выглядят одинаково, так как оба симметричны и имеют форму колокола. Однако они отличаются в том смысле, что в t-распределении меньше места в центре и больше в хвостах.\n",
    "Одним из важных условий для принятия t-критерия является то, что популяционная дисперсия неизвестна. И наоборот, популяционная дисперсия должна быть известна или предполагается известной в случае z-критерия.\n",
    "Z-критерий применяется для случаев, когда размер выборки велик, т.е. n> 30, и t-критерий подходит для случаев, когда размер образца мал, в том смысле, что n <30."
   ]
  },
  {
   "cell_type": "markdown",
   "metadata": {},
   "source": [
    "2. Проведите тест гипотезы. Утверждается, что шарики для подшипников, изготовленные автоматическим станком, имеют средний диаметр 17 мм.\n",
    "Используя односторонний критерий с α=0,05, проверить эту гипотезу, если в выборке из n=100 шариков средний диаметр оказался равным 17.5 мм, а дисперсия известна и равна 4 кв. мм"
   ]
  },
  {
   "cell_type": "code",
   "execution_count": 2,
   "metadata": {},
   "outputs": [
    {
     "name": "stdout",
     "output_type": "stream",
     "text": [
      "Наблюдаемое значение z-критерия:  2.5000\n"
     ]
    }
   ],
   "source": [
    "z=(17.5-17)/0.2\n",
    "print(f'Наблюдаемое значение z-критерия: {z: .4f}')"
   ]
  },
  {
   "cell_type": "markdown",
   "metadata": {},
   "source": [
    "Найдем табличное значение  z-критерия, для a = 0.05"
   ]
  },
  {
   "cell_type": "code",
   "execution_count": 10,
   "metadata": {},
   "outputs": [],
   "source": [
    "import scipy.stats as stats"
   ]
  },
  {
   "cell_type": "code",
   "execution_count": 11,
   "metadata": {},
   "outputs": [
    {
     "name": "stdout",
     "output_type": "stream",
     "text": [
      "Табличное значение z-критерия:  1.6449\n"
     ]
    }
   ],
   "source": [
    "zt=stats.norm.ppf(0.95)\n",
    "print(f'Табличное значение z-критерия: {zt: .4f}')"
   ]
  },
  {
   "cell_type": "markdown",
   "metadata": {},
   "source": [
    "Сравним полученные значения:"
   ]
  },
  {
   "cell_type": "code",
   "execution_count": 12,
   "metadata": {},
   "outputs": [
    {
     "data": {
      "text/plain": [
       "False"
      ]
     },
     "execution_count": 12,
     "metadata": {},
     "output_type": "execute_result"
    }
   ],
   "source": [
    "z<zt"
   ]
  },
  {
   "cell_type": "markdown",
   "metadata": {},
   "source": [
    "Ответ: Отвергаем нулевую гипотезу (17 мм) на уровне значимости α=0,05"
   ]
  },
  {
   "cell_type": "markdown",
   "metadata": {},
   "source": [
    "3. Проведите тест гипотезы. Продавец утверждает, что средний вес пачки печенья составляет 200 г.\n",
    "Из партии извлечена выборка из 10 пачек. Вес каждой пачки составляет:\n",
    "202, 203, 199, 197, 195, 201, 200, 204, 194, 190.\n",
    "Известно, что их веса распределены нормально.\n",
    "\n",
    "Верно ли утверждение продавца, если учитывать, что доверительная вероятность равна 99%? (Провести двусторонний тест.)"
   ]
  },
  {
   "cell_type": "code",
   "execution_count": 13,
   "metadata": {},
   "outputs": [],
   "source": [
    "import numpy as np"
   ]
  },
  {
   "cell_type": "code",
   "execution_count": 14,
   "metadata": {},
   "outputs": [],
   "source": [
    "cookies=np.array([202, 203, 199, 197, 195, 201, 200, 204, 194, 190])"
   ]
  },
  {
   "cell_type": "code",
   "execution_count": 15,
   "metadata": {},
   "outputs": [
    {
     "name": "stdout",
     "output_type": "stream",
     "text": [
      "Наблюдаемое значение t-критерия: -1.0651\n"
     ]
    }
   ],
   "source": [
    "tn=(np.mean(cookies)-200)/(np.std(cookies,ddof=1)/len(cookies)**0.5)\n",
    "print(f'Наблюдаемое значение t-критерия: {tn: .4f}')"
   ]
  },
  {
   "cell_type": "code",
   "execution_count": 16,
   "metadata": {},
   "outputs": [],
   "source": [
    "import scipy.stats as stats"
   ]
  },
  {
   "cell_type": "code",
   "execution_count": 17,
   "metadata": {},
   "outputs": [
    {
     "name": "stdout",
     "output_type": "stream",
     "text": [
      "Табличное значение t-критерия:  3.2498\n"
     ]
    }
   ],
   "source": [
    "tt=stats.t.ppf(0.995,len(cookies)-1)\n",
    "print(f'Табличное значение t-критерия: {tt: .4f}')"
   ]
  },
  {
   "cell_type": "code",
   "execution_count": 18,
   "metadata": {},
   "outputs": [
    {
     "data": {
      "text/plain": [
       "True"
      ]
     },
     "execution_count": 18,
     "metadata": {},
     "output_type": "execute_result"
    }
   ],
   "source": [
    "np.abs(tn)<tt"
   ]
  },
  {
   "cell_type": "markdown",
   "metadata": {},
   "source": [
    "Ответ: Принимаем нулевую гипотезу 200г. на уровне значимости α=0,01"
   ]
  },
  {
   "cell_type": "markdown",
   "metadata": {},
   "source": [
    "4. Есть ли статистически значимые различия в росте дочерей?\n",
    "Рост матерей 172, 177, 158, 170, 178,175, 164, 160, 169\n",
    "Рост взрослых дочерей: 173, 175, 162, 174, 175, 168, 155, 170, 160"
   ]
  },
  {
   "cell_type": "code",
   "execution_count": 19,
   "metadata": {},
   "outputs": [],
   "source": [
    "import math\n",
    "import numpy as np\n",
    "from numpy import linalg as LA\n",
    "from scipy import stats\n",
    "import statistics"
   ]
  },
  {
   "cell_type": "code",
   "execution_count": 20,
   "metadata": {},
   "outputs": [],
   "source": [
    "def equalmean(x,y):\n",
    "    # вычисляем разность выборок\n",
    "    dif=mothers-daughters\n",
    "    n=len(dif)\n",
    "    # вычисляем среднее разности\n",
    "    mean_dif=dif.mean()\n",
    "    # вычисляем несмещенную дисперсию разности\n",
    "    var_dif=dif.var()*n/(n-1)\n",
    "    # вычисляем t-статистику\n",
    "    t=mean_dif/math.sqrt(var_dif)*math.sqrt(n)\n",
    "    # вычисляем р-уровень\n",
    "    p = 1 - math.fabs(stats.t.cdf(t,n-1) - stats.t.cdf(-t,n-1))\n",
    "    return t,p"
   ]
  },
  {
   "cell_type": "code",
   "execution_count": 21,
   "metadata": {},
   "outputs": [
    {
     "name": "stdout",
     "output_type": "stream",
     "text": [
      "t-статистика критерия =  0.664847853143198\n",
      "p-уровень =  0.5228168632983574\n"
     ]
    },
    {
     "ename": "ValueError",
     "evalue": "could not convert string to float: ''",
     "output_type": "error",
     "traceback": [
      "\u001b[0;31m---------------------------------------------------------------------------\u001b[0m",
      "\u001b[0;31mValueError\u001b[0m                                Traceback (most recent call last)",
      "\u001b[1;32m/Users/vladimir/Documents/Study/Probability-theory/dz5.ipynb Ячейка 22\u001b[0m line \u001b[0;36m6\n\u001b[1;32m      <a href='vscode-notebook-cell:/Users/vladimir/Documents/Study/Probability-theory/dz5.ipynb#X33sZmlsZQ%3D%3D?line=3'>4</a>\u001b[0m \u001b[39mprint\u001b[39m(\u001b[39m\"\u001b[39m\u001b[39mt-статистика критерия = \u001b[39m\u001b[39m\"\u001b[39m,t)\n\u001b[1;32m      <a href='vscode-notebook-cell:/Users/vladimir/Documents/Study/Probability-theory/dz5.ipynb#X33sZmlsZQ%3D%3D?line=4'>5</a>\u001b[0m \u001b[39mprint\u001b[39m(\u001b[39m\"\u001b[39m\u001b[39mp-уровень = \u001b[39m\u001b[39m\"\u001b[39m,p)\n\u001b[0;32m----> <a href='vscode-notebook-cell:/Users/vladimir/Documents/Study/Probability-theory/dz5.ipynb#X33sZmlsZQ%3D%3D?line=5'>6</a>\u001b[0m alpha\u001b[39m=\u001b[39m\u001b[39mfloat\u001b[39;49m(\u001b[39minput\u001b[39;49m(\u001b[39m\"\u001b[39;49m\u001b[39mВведите уровень значимости \u001b[39;49m\u001b[39m\"\u001b[39;49m))\n\u001b[1;32m      <a href='vscode-notebook-cell:/Users/vladimir/Documents/Study/Probability-theory/dz5.ipynb#X33sZmlsZQ%3D%3D?line=6'>7</a>\u001b[0m \u001b[39mif\u001b[39;00m p\u001b[39m>\u001b[39malpha:\n\u001b[1;32m      <a href='vscode-notebook-cell:/Users/vladimir/Documents/Study/Probability-theory/dz5.ipynb#X33sZmlsZQ%3D%3D?line=7'>8</a>\u001b[0m     \u001b[39mprint\u001b[39m(\u001b[39m\"\u001b[39m\u001b[39mстатистически значимых различий в росте матерей и дочерей нет\u001b[39m\u001b[39m\"\u001b[39m)\n",
      "\u001b[0;31mValueError\u001b[0m: could not convert string to float: ''"
     ]
    }
   ],
   "source": [
    "mothers=np.array([172,177,158,170,178,175,164,160,169,165])\n",
    "daughters=np.array([173,175,162,174,175,168,155,170,160,163])\n",
    "t,p=equalmean(mothers,daughters)\n",
    "print(\"t-статистика критерия = \",t)\n",
    "print(\"p-уровень = \",p)\n",
    "alpha=float(input(\"Введите уровень значимости \"))\n",
    "if p>alpha:\n",
    "    print(\"статистически значимых различий в росте матерей и дочерей нет\")\n",
    "else:\n",
    "    print(\"есть статистически значимые различия в росте матерей и дочерей\")\n",
    "print(\"\\n Проверка с помощью встроенной функции\")\n",
    "res=stats.ttest_rel (a=mothers, b=daughters)\n",
    "print(\"t-статистика критерия = \",res.statistic)\n",
    "print(\"p-уровень = \",res.pvalue)"
   ]
  }
 ],
 "metadata": {
  "kernelspec": {
   "display_name": "Python 3",
   "language": "python",
   "name": "python3"
  },
  "language_info": {
   "codemirror_mode": {
    "name": "ipython",
    "version": 3
   },
   "file_extension": ".py",
   "mimetype": "text/x-python",
   "name": "python",
   "nbconvert_exporter": "python",
   "pygments_lexer": "ipython3",
   "version": "3.11.1"
  }
 },
 "nbformat": 4,
 "nbformat_minor": 2
}
